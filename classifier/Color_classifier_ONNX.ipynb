{
  "nbformat": 4,
  "nbformat_minor": 0,
  "metadata": {
    "colab": {
      "provenance": []
    },
    "kernelspec": {
      "name": "python3",
      "display_name": "Python 3"
    },
    "language_info": {
      "name": "python"
    }
  },
  "cells": [
    {
      "cell_type": "markdown",
      "source": [
        "## The pourpose of this notebook is to implement a simple classification model and show how an exported ONNX could be use to distribute an model already trained to be use by other applications."
      ],
      "metadata": {
        "id": "05SUcepXrTKC"
      }
    },
    {
      "cell_type": "code",
      "execution_count": 68,
      "metadata": {
        "id": "LUhQwAvWQFwU"
      },
      "outputs": [],
      "source": [
        "}import torch\n",
        "import torch.nn as nn\n",
        "import torch.optim as optim\n",
        "# import torch.onnx as onnx\n",
        "import numpy as np\n"
      ]
    },
    {
      "cell_type": "markdown",
      "source": [
        "define the hyperparameters of the model:"
      ],
      "metadata": {
        "id": "GNDW5cw-SPNs"
      }
    },
    {
      "cell_type": "code",
      "source": [
        "learning_rate = 0.001\n",
        "num_epochs = 1000\n"
      ],
      "metadata": {
        "id": "49AYwzFZQH1z"
      },
      "execution_count": 58,
      "outputs": []
    },
    {
      "cell_type": "markdown",
      "source": [
        "define the model architecture. We'll use a simple fully connected neural network with one hidden layer and a sigmoid activation function at the output"
      ],
      "metadata": {
        "id": "xm_W9jtNSSgw"
      }
    },
    {
      "cell_type": "code",
      "source": [
        "class ClarificationModel(nn.Module):\n",
        "    def __init__(self):\n",
        "        super(ClarificationModel, self).__init__()\n",
        "        self.fc1 = nn.Linear(3, 5)\n",
        "        self.fc2 = nn.Linear(5, 1)\n",
        "        self.sigmoid = nn.Sigmoid()\n",
        "\n",
        "    def forward(self, x):\n",
        "        x = self.fc1(x)\n",
        "        x = self.sigmoid(x)\n",
        "        x = self.fc2(x)\n",
        "        x = self.sigmoid(x)\n",
        "        return x\n"
      ],
      "metadata": {
        "id": "ZtpGeHbeQNAu"
      },
      "execution_count": 59,
      "outputs": []
    },
    {
      "cell_type": "markdown",
      "source": [
        "define a function to generate the training data. We'll generate 1000 random RGB values with integer values ranging from 0 to 255, and set the label to 1 if the color is some tone of orange (i.e., if the R value is greater than the G and B values)."
      ],
      "metadata": {
        "id": "89ZcnnYISXCN"
      }
    },
    {
      "cell_type": "code",
      "source": [
        "def generate_data(num_samples):\n",
        "    X = np.random.randint(0, 256, size=(num_samples, 3))\n",
        "    y = np.zeros((num_samples, 1))\n",
        "    for i in range(num_samples):\n",
        "        if X[i, 0] > X[i, 1] and X[i, 0] > X[i, 2]:\n",
        "            y[i] = 1\n",
        "    return X, y\n"
      ],
      "metadata": {
        "id": "fvL3igbBQO2z"
      },
      "execution_count": 60,
      "outputs": []
    },
    {
      "cell_type": "markdown",
      "source": [
        "train the model. We'll use the binary cross entropy loss and the Adam optimizer."
      ],
      "metadata": {
        "id": "IaSJS57sSbTT"
      }
    },
    {
      "cell_type": "code",
      "source": [
        "model = ClarificationModel()\n",
        "criterion = nn.BCELoss()\n",
        "optimizer = optim.Adam(model.parameters(), lr=learning_rate)\n",
        "\n",
        "X, y = generate_data(100000)\n",
        "\n",
        "for epoch in range(num_epochs):\n",
        "    optimizer.zero_grad()\n",
        "    inputs = torch.from_numpy(X).float()\n",
        "    labels = torch.from_numpy(y).float()\n",
        "    outputs = model(inputs / 255.0)\n",
        "    loss = criterion(outputs, labels)\n",
        "    loss.backward()\n",
        "    optimizer.step()\n",
        "    if epoch % 100 == 0:\n",
        "        print('Epoch [{}/{}], Loss: {:.4f}'.format(epoch+1, num_epochs, loss.item()))"
      ],
      "metadata": {
        "colab": {
          "base_uri": "https://localhost:8080/"
        },
        "id": "72ryA4ttQQXJ",
        "outputId": "9273f247-b40d-42ab-e826-134a2f9e8283"
      },
      "execution_count": 61,
      "outputs": [
        {
          "output_type": "stream",
          "name": "stdout",
          "text": [
            "Epoch [1/1000], Loss: 0.6635\n",
            "Epoch [101/1000], Loss: 0.6378\n",
            "Epoch [201/1000], Loss: 0.6295\n",
            "Epoch [301/1000], Loss: 0.6207\n",
            "Epoch [401/1000], Loss: 0.6067\n",
            "Epoch [501/1000], Loss: 0.5862\n",
            "Epoch [601/1000], Loss: 0.5597\n",
            "Epoch [701/1000], Loss: 0.5288\n",
            "Epoch [801/1000], Loss: 0.4958\n",
            "Epoch [901/1000], Loss: 0.4632\n"
          ]
        }
      ]
    },
    {
      "cell_type": "markdown",
      "source": [
        "se the trained model to make predictions on new data."
      ],
      "metadata": {
        "id": "xKTmivocSgzd"
      }
    },
    {
      "cell_type": "code",
      "source": [
        "def predict_color(model, color):\n",
        "    inputs = torch.from_numpy(np.array(color)).float()\n",
        "    output = model(inputs / 255.0)\n",
        "    if output.item() > 0.5:\n",
        "        return 'Some tone of orange'\n",
        "    else:\n",
        "        return 'Not some tone of orange'\n",
        "\n",
        "print(predict_color(model, [255, 128, 0]))  # Some tone of orange\n",
        "print(predict_color(model, [128, 255, 0]))  # Not some tone of orange\n",
        "print(predict_color(model, [223, 118, 14]))  # Some tone of orange"
      ],
      "metadata": {
        "colab": {
          "base_uri": "https://localhost:8080/"
        },
        "id": "3Pj1J3LVQR_p",
        "outputId": "6e232b22-f948-43a1-8cce-516fe4a8860d"
      },
      "execution_count": 62,
      "outputs": [
        {
          "output_type": "stream",
          "name": "stdout",
          "text": [
            "Some tone of orange\n",
            "Not some tone of orange\n",
            "Some tone of orange\n"
          ]
        }
      ]
    },
    {
      "cell_type": "markdown",
      "source": [
        "export the model to ONNX"
      ],
      "metadata": {
        "id": "95eLA1kcUuzw"
      }
    },
    {
      "cell_type": "code",
      "source": [
        "# # Export the model to ONNX\n",
        "input_names = [\"input\"]\n",
        "output_names = [\"output\"]\n",
        "dummy_input = torch.randn(1, 3)\n",
        "torch.onnx.export(model, dummy_input, \"classifier.onnx\", input_names=input_names, output_names=output_names)"
      ],
      "metadata": {
        "id": "G4bzACxXQTpk"
      },
      "execution_count": 63,
      "outputs": []
    },
    {
      "cell_type": "markdown",
      "source": [],
      "metadata": {
        "id": "pGdpC2-QVQYJ"
      }
    },
    {
      "cell_type": "markdown",
      "source": [
        "# Using the exported ONNX"
      ],
      "metadata": {
        "id": "1K1U6ethsVDw"
      }
    },
    {
      "cell_type": "code",
      "source": [
        "!pip install onnxruntime"
      ],
      "metadata": {
        "colab": {
          "base_uri": "https://localhost:8080/"
        },
        "id": "P59NoqpuVYvy",
        "outputId": "50af87d7-bb8f-4199-867b-6c895e85b233"
      },
      "execution_count": 64,
      "outputs": [
        {
          "output_type": "stream",
          "name": "stdout",
          "text": [
            "Looking in indexes: https://pypi.org/simple, https://us-python.pkg.dev/colab-wheels/public/simple/\n",
            "Requirement already satisfied: onnxruntime in /usr/local/lib/python3.8/dist-packages (1.14.0)\n",
            "Requirement already satisfied: numpy>=1.21.6 in /usr/local/lib/python3.8/dist-packages (from onnxruntime) (1.22.4)\n",
            "Requirement already satisfied: flatbuffers in /usr/local/lib/python3.8/dist-packages (from onnxruntime) (23.1.21)\n",
            "Requirement already satisfied: packaging in /usr/local/lib/python3.8/dist-packages (from onnxruntime) (23.0)\n",
            "Requirement already satisfied: coloredlogs in /usr/local/lib/python3.8/dist-packages (from onnxruntime) (15.0.1)\n",
            "Requirement already satisfied: protobuf in /usr/local/lib/python3.8/dist-packages (from onnxruntime) (3.19.6)\n",
            "Requirement already satisfied: sympy in /usr/local/lib/python3.8/dist-packages (from onnxruntime) (1.7.1)\n",
            "Requirement already satisfied: humanfriendly>=9.1 in /usr/local/lib/python3.8/dist-packages (from coloredlogs->onnxruntime) (10.0)\n",
            "Requirement already satisfied: mpmath>=0.19 in /usr/local/lib/python3.8/dist-packages (from sympy->onnxruntime) (1.2.1)\n"
          ]
        }
      ]
    },
    {
      "cell_type": "markdown",
      "source": [
        "loads an ONNX model and makes predictions on input data:"
      ],
      "metadata": {
        "id": "pY5ByQQOV-KB"
      }
    },
    {
      "cell_type": "code",
      "source": [
        "import onnxruntime as ort\n",
        "import numpy as np\n",
        "\n",
        "def predict_onnx(model_file, input_data):\n",
        "    # Load the ONNX model\n",
        "    session = ort.InferenceSession(model_file)\n",
        "\n",
        "    # Get the names of the input and output tensors\n",
        "    input_name = session.get_inputs()[0].name\n",
        "    output_name = session.get_outputs()[0].name\n",
        "\n",
        "    # Run the model on the input data\n",
        "    output_data = session.run([output_name], {input_name: input_data})[0]\n",
        "\n",
        "    # Return the output of the model\n",
        "    if output_data > 0.5:\n",
        "        return \"Some tone of orange\"\n",
        "    else:\n",
        "        return \"Not some tone of orange\"\n"
      ],
      "metadata": {
        "id": "F6oRHPOHVRFz"
      },
      "execution_count": 65,
      "outputs": []
    },
    {
      "cell_type": "markdown",
      "source": [
        "test an orange-ish color"
      ],
      "metadata": {
        "id": "9Pm_vn1ZWATQ"
      }
    },
    {
      "cell_type": "code",
      "source": [
        "input_data = np.array([[255, 128, 0]], dtype=np.float32)\n",
        "output = predict_onnx(\"classifier.onnx\", input_data)\n",
        "print(output)"
      ],
      "metadata": {
        "colab": {
          "base_uri": "https://localhost:8080/"
        },
        "id": "qmZpfzGMVunb",
        "outputId": "bcd22a03-66ab-480e-aa57-85e647372e16"
      },
      "execution_count": 66,
      "outputs": [
        {
          "output_type": "stream",
          "name": "stdout",
          "text": [
            "Some tone of orange\n"
          ]
        }
      ]
    },
    {
      "cell_type": "markdown",
      "source": [
        "test a non oranh-ish color"
      ],
      "metadata": {
        "id": "uVxjODANWDAb"
      }
    },
    {
      "cell_type": "code",
      "source": [
        "input_data = np.array([[128, 255, 0]], dtype=np.float32)\n",
        "output = predict_onnx(\"classifier.onnx\", input_data)\n",
        "print(output)"
      ],
      "metadata": {
        "colab": {
          "base_uri": "https://localhost:8080/"
        },
        "id": "4TkGTcnvV1Da",
        "outputId": "33e59e9f-1054-45b9-e9ca-cf5b6df4f148"
      },
      "execution_count": 67,
      "outputs": [
        {
          "output_type": "stream",
          "name": "stdout",
          "text": [
            "Not some tone of orange\n"
          ]
        }
      ]
    },
    {
      "cell_type": "code",
      "source": [],
      "metadata": {
        "id": "lipPhjS6V7Ia"
      },
      "execution_count": 67,
      "outputs": []
    }
  ]
}